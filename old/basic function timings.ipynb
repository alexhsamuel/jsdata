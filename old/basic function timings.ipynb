{
 "cells": [
  {
   "cell_type": "code",
   "execution_count": 1,
   "metadata": {
    "collapsed": true
   },
   "outputs": [],
   "source": [
    "import numpy as np"
   ]
  },
  {
   "cell_type": "code",
   "execution_count": 3,
   "metadata": {
    "collapsed": false
   },
   "outputs": [
    {
     "ename": "FileNotFoundError",
     "evalue": "[Errno 2] No such file or directory: 'results.csv'",
     "output_type": "error",
     "traceback": [
      "\u001b[1;31m---------------------------------------------------------------------------\u001b[0m",
      "\u001b[1;31mFileNotFoundError\u001b[0m                         Traceback (most recent call last)",
      "\u001b[1;32m<ipython-input-3-ff0aac34b836>\u001b[0m in \u001b[0;36m<module>\u001b[1;34m()\u001b[0m\n\u001b[1;32m----> 1\u001b[1;33m \u001b[0mtimes\u001b[0m \u001b[1;33m=\u001b[0m \u001b[0mnp\u001b[0m\u001b[1;33m.\u001b[0m\u001b[0mfromiter\u001b[0m\u001b[1;33m(\u001b[0m\u001b[1;33m(\u001b[0m \u001b[0mfloat\u001b[0m\u001b[1;33m(\u001b[0m\u001b[0ml\u001b[0m\u001b[1;33m.\u001b[0m\u001b[0mstrip\u001b[0m\u001b[1;33m(\u001b[0m\u001b[1;33m)\u001b[0m\u001b[1;33m)\u001b[0m \u001b[1;32mfor\u001b[0m \u001b[0ml\u001b[0m \u001b[1;32min\u001b[0m \u001b[0mopen\u001b[0m\u001b[1;33m(\u001b[0m\u001b[1;34m\"results.csv\"\u001b[0m\u001b[1;33m)\u001b[0m \u001b[1;33m)\u001b[0m\u001b[1;33m,\u001b[0m \u001b[0mdtype\u001b[0m\u001b[1;33m=\u001b[0m\u001b[0mfloat\u001b[0m\u001b[1;33m)\u001b[0m\u001b[1;33m\u001b[0m\u001b[0m\n\u001b[0m",
      "\u001b[1;31mFileNotFoundError\u001b[0m: [Errno 2] No such file or directory: 'results.csv'"
     ]
    }
   ],
   "source": [
    "times = np.fromiter(( float(l.strip()) for l in open(\"results.json\") ), dtype=float)"
   ]
  },
  {
   "cell_type": "code",
   "execution_count": 9,
   "metadata": {
    "collapsed": false
   },
   "outputs": [],
   "source": [
    "import matplotlib.pyplot as plt\n",
    "%matplotlib inline"
   ]
  },
  {
   "cell_type": "code",
   "execution_count": 7,
   "metadata": {
    "collapsed": false
   },
   "outputs": [
    {
     "data": {
      "text/plain": [
       "[<matplotlib.lines.Line2D at 0x10b091c50>]"
      ]
     },
     "execution_count": 7,
     "metadata": {},
     "output_type": "execute_result"
    },
    {
     "data": {
      "image/png": "[encoded data removed]",
      "text/plain": [
       "<matplotlib.figure.Figure at 0x10afadc50>"
      ]
     },
     "metadata": {},
     "output_type": "display_data"
    }
   ],
   "source": [
    "plt.plot(times)"
   ]
  },
  {
   "cell_type": "code",
   "execution_count": 10,
   "metadata": {
    "collapsed": false
   },
   "outputs": [
    {
     "data": {
      "image/png": "[encoded data removed]",
      "text/plain": [
       "<matplotlib.figure.Figure at 0x111647a20>"
      ]
     },
     "metadata": {},
     "output_type": "display_data"
    }
   ],
   "source": [
    "plt.hist(times, 100, (0.015, 0.035));"
   ]
  },
  {
   "cell_type": "code",
   "execution_count": 12,
   "metadata": {
    "collapsed": false
   },
   "outputs": [
    {
     "data": {
      "text/plain": [
       "0.018012079999998321"
      ]
     },
     "execution_count": 12,
     "metadata": {},
     "output_type": "execute_result"
    }
   ],
   "source": [
    "sorted(times)[len(times) // 10]"
   ]
  },
  {
   "cell_type": "code",
   "execution_count": 13,
   "metadata": {
    "collapsed": false
   },
   "outputs": [
    {
     "data": {
      "text/plain": [
       "0.017811471999999995"
      ]
     },
     "execution_count": 13,
     "metadata": {},
     "output_type": "execute_result"
    }
   ],
   "source": [
    "times.min()"
   ]
  },
  {
   "cell_type": "code",
   "execution_count": 4,
   "metadata": {
    "collapsed": true
   },
   "outputs": [],
   "source": [
    "import json\n",
    "import pandas as pd"
   ]
  },
  {
   "cell_type": "code",
   "execution_count": 12,
   "metadata": {
    "collapsed": false
   },
   "outputs": [],
   "source": [
    "with open(\"results.json\") as file:\n",
    "    results = pd.DataFrame.from_records( json.loads(l) for l in file )\n",
    "results[\"rate\"] = results[\"time\"] / results[\"size\"]\n",
    "results[\"bandwidth\"] = results[\"totalSize\"] * 8 / results[\"time\"] / 1024**3"
   ]
  },
  {
   "cell_type": "code",
   "execution_count": 13,
   "metadata": {
    "collapsed": false
   },
   "outputs": [
    {
     "data": {
      "text/html": [
       "<div>\n",
       "<table border=\"1\" class=\"dataframe\">\n",
       "  <thead>\n",
       "    <tr style=\"text-align: right;\">\n",
       "      <th></th>\n",
       "      <th>function</th>\n",
       "      <th>node</th>\n",
       "      <th>size</th>\n",
       "      <th>time</th>\n",
       "      <th>totalSize</th>\n",
       "      <th>trials</th>\n",
       "      <th>v8</th>\n",
       "      <th>rate</th>\n",
       "      <th>bandwidth</th>\n",
       "    </tr>\n",
       "  </thead>\n",
       "  <tbody>\n",
       "    <tr>\n",
       "      <th>0</th>\n",
       "      <td>moments5</td>\n",
       "      <td>6.3.1</td>\n",
       "      <td>256</td>\n",
       "      <td>0.000002</td>\n",
       "      <td>256</td>\n",
       "      <td>446460</td>\n",
       "      <td>5.0.71.57</td>\n",
       "      <td>6.492187e-09</td>\n",
       "      <td>1.147623</td>\n",
       "    </tr>\n",
       "    <tr>\n",
       "      <th>1</th>\n",
       "      <td>moments5</td>\n",
       "      <td>6.3.1</td>\n",
       "      <td>512</td>\n",
       "      <td>0.000002</td>\n",
       "      <td>512</td>\n",
       "      <td>19040</td>\n",
       "      <td>5.0.71.57</td>\n",
       "      <td>4.159901e-09</td>\n",
       "      <td>1.791047</td>\n",
       "    </tr>\n",
       "    <tr>\n",
       "      <th>2</th>\n",
       "      <td>moments5</td>\n",
       "      <td>6.3.1</td>\n",
       "      <td>1024</td>\n",
       "      <td>0.000004</td>\n",
       "      <td>1024</td>\n",
       "      <td>20549</td>\n",
       "      <td>5.0.71.57</td>\n",
       "      <td>3.651286e-09</td>\n",
       "      <td>2.040536</td>\n",
       "    </tr>\n",
       "    <tr>\n",
       "      <th>3</th>\n",
       "      <td>moments5</td>\n",
       "      <td>6.3.1</td>\n",
       "      <td>2048</td>\n",
       "      <td>0.000007</td>\n",
       "      <td>2048</td>\n",
       "      <td>19066</td>\n",
       "      <td>5.0.71.57</td>\n",
       "      <td>3.417341e-09</td>\n",
       "      <td>2.180227</td>\n",
       "    </tr>\n",
       "    <tr>\n",
       "      <th>4</th>\n",
       "      <td>moments5</td>\n",
       "      <td>6.3.1</td>\n",
       "      <td>4096</td>\n",
       "      <td>0.000013</td>\n",
       "      <td>4096</td>\n",
       "      <td>17091</td>\n",
       "      <td>5.0.71.57</td>\n",
       "      <td>3.225281e-09</td>\n",
       "      <td>2.310056</td>\n",
       "    </tr>\n",
       "    <tr>\n",
       "      <th>5</th>\n",
       "      <td>moments5</td>\n",
       "      <td>6.3.1</td>\n",
       "      <td>8192</td>\n",
       "      <td>0.000026</td>\n",
       "      <td>8192</td>\n",
       "      <td>17187</td>\n",
       "      <td>5.0.71.57</td>\n",
       "      <td>3.161438e-09</td>\n",
       "      <td>2.356706</td>\n",
       "    </tr>\n",
       "    <tr>\n",
       "      <th>6</th>\n",
       "      <td>moments5</td>\n",
       "      <td>6.3.1</td>\n",
       "      <td>16384</td>\n",
       "      <td>0.000051</td>\n",
       "      <td>16384</td>\n",
       "      <td>16271</td>\n",
       "      <td>5.0.71.57</td>\n",
       "      <td>3.129456e-09</td>\n",
       "      <td>2.380791</td>\n",
       "    </tr>\n",
       "    <tr>\n",
       "      <th>7</th>\n",
       "      <td>moments5</td>\n",
       "      <td>6.3.1</td>\n",
       "      <td>32768</td>\n",
       "      <td>0.000102</td>\n",
       "      <td>32768</td>\n",
       "      <td>8895</td>\n",
       "      <td>5.0.71.57</td>\n",
       "      <td>3.105530e-09</td>\n",
       "      <td>2.399134</td>\n",
       "    </tr>\n",
       "    <tr>\n",
       "      <th>8</th>\n",
       "      <td>moments5</td>\n",
       "      <td>6.3.1</td>\n",
       "      <td>65536</td>\n",
       "      <td>0.000202</td>\n",
       "      <td>65536</td>\n",
       "      <td>4687</td>\n",
       "      <td>5.0.71.57</td>\n",
       "      <td>3.088913e-09</td>\n",
       "      <td>2.412040</td>\n",
       "    </tr>\n",
       "    <tr>\n",
       "      <th>9</th>\n",
       "      <td>moments5</td>\n",
       "      <td>6.3.1</td>\n",
       "      <td>131072</td>\n",
       "      <td>0.000408</td>\n",
       "      <td>131072</td>\n",
       "      <td>2246</td>\n",
       "      <td>5.0.71.57</td>\n",
       "      <td>3.109344e-09</td>\n",
       "      <td>2.396190</td>\n",
       "    </tr>\n",
       "    <tr>\n",
       "      <th>10</th>\n",
       "      <td>moments5</td>\n",
       "      <td>6.3.1</td>\n",
       "      <td>262144</td>\n",
       "      <td>0.000834</td>\n",
       "      <td>262144</td>\n",
       "      <td>1077</td>\n",
       "      <td>5.0.71.57</td>\n",
       "      <td>3.180225e-09</td>\n",
       "      <td>2.342784</td>\n",
       "    </tr>\n",
       "    <tr>\n",
       "      <th>11</th>\n",
       "      <td>moments5</td>\n",
       "      <td>6.3.1</td>\n",
       "      <td>524288</td>\n",
       "      <td>0.001704</td>\n",
       "      <td>524288</td>\n",
       "      <td>499</td>\n",
       "      <td>5.0.71.57</td>\n",
       "      <td>3.249666e-09</td>\n",
       "      <td>2.292722</td>\n",
       "    </tr>\n",
       "    <tr>\n",
       "      <th>12</th>\n",
       "      <td>moments5</td>\n",
       "      <td>6.3.1</td>\n",
       "      <td>1048576</td>\n",
       "      <td>0.003343</td>\n",
       "      <td>1048576</td>\n",
       "      <td>283</td>\n",
       "      <td>5.0.71.57</td>\n",
       "      <td>3.188400e-09</td>\n",
       "      <td>2.336777</td>\n",
       "    </tr>\n",
       "    <tr>\n",
       "      <th>13</th>\n",
       "      <td>moments5</td>\n",
       "      <td>6.3.1</td>\n",
       "      <td>2097152</td>\n",
       "      <td>0.006582</td>\n",
       "      <td>2097152</td>\n",
       "      <td>144</td>\n",
       "      <td>5.0.71.57</td>\n",
       "      <td>3.138340e-09</td>\n",
       "      <td>2.374051</td>\n",
       "    </tr>\n",
       "    <tr>\n",
       "      <th>14</th>\n",
       "      <td>moments5</td>\n",
       "      <td>6.3.1</td>\n",
       "      <td>4194304</td>\n",
       "      <td>0.013245</td>\n",
       "      <td>4194304</td>\n",
       "      <td>74</td>\n",
       "      <td>5.0.71.57</td>\n",
       "      <td>3.157967e-09</td>\n",
       "      <td>2.359297</td>\n",
       "    </tr>\n",
       "    <tr>\n",
       "      <th>15</th>\n",
       "      <td>moments5</td>\n",
       "      <td>6.3.1</td>\n",
       "      <td>8388608</td>\n",
       "      <td>0.026811</td>\n",
       "      <td>8388608</td>\n",
       "      <td>37</td>\n",
       "      <td>5.0.71.57</td>\n",
       "      <td>3.196119e-09</td>\n",
       "      <td>2.331134</td>\n",
       "    </tr>\n",
       "    <tr>\n",
       "      <th>16</th>\n",
       "      <td>moments5</td>\n",
       "      <td>6.3.1</td>\n",
       "      <td>16777216</td>\n",
       "      <td>0.053544</td>\n",
       "      <td>16777216</td>\n",
       "      <td>20</td>\n",
       "      <td>5.0.71.57</td>\n",
       "      <td>3.191500e-09</td>\n",
       "      <td>2.334508</td>\n",
       "    </tr>\n",
       "    <tr>\n",
       "      <th>17</th>\n",
       "      <td>moments5</td>\n",
       "      <td>6.3.1</td>\n",
       "      <td>33554432</td>\n",
       "      <td>0.107545</td>\n",
       "      <td>33554432</td>\n",
       "      <td>20</td>\n",
       "      <td>5.0.71.57</td>\n",
       "      <td>3.205084e-09</td>\n",
       "      <td>2.324613</td>\n",
       "    </tr>\n",
       "    <tr>\n",
       "      <th>18</th>\n",
       "      <td>moments5</td>\n",
       "      <td>6.3.1</td>\n",
       "      <td>67108864</td>\n",
       "      <td>0.214789</td>\n",
       "      <td>67108864</td>\n",
       "      <td>20</td>\n",
       "      <td>5.0.71.57</td>\n",
       "      <td>3.200607e-09</td>\n",
       "      <td>2.327865</td>\n",
       "    </tr>\n",
       "    <tr>\n",
       "      <th>19</th>\n",
       "      <td>moments5</td>\n",
       "      <td>6.3.1</td>\n",
       "      <td>134217728</td>\n",
       "      <td>0.430358</td>\n",
       "      <td>134217728</td>\n",
       "      <td>20</td>\n",
       "      <td>5.0.71.57</td>\n",
       "      <td>3.206420e-09</td>\n",
       "      <td>2.323645</td>\n",
       "    </tr>\n",
       "    <tr>\n",
       "      <th>20</th>\n",
       "      <td>moments5</td>\n",
       "      <td>6.3.1</td>\n",
       "      <td>268435456</td>\n",
       "      <td>0.858327</td>\n",
       "      <td>268435456</td>\n",
       "      <td>20</td>\n",
       "      <td>5.0.71.57</td>\n",
       "      <td>3.197516e-09</td>\n",
       "      <td>2.330115</td>\n",
       "    </tr>\n",
       "  </tbody>\n",
       "</table>\n",
       "</div>"
      ],
      "text/plain": [
       "    function   node       size      time  totalSize  trials         v8  \\\n",
       "0   moments5  6.3.1        256  0.000002        256  446460  5.0.71.57   \n",
       "1   moments5  6.3.1        512  0.000002        512   19040  5.0.71.57   \n",
       "2   moments5  6.3.1       1024  0.000004       1024   20549  5.0.71.57   \n",
       "3   moments5  6.3.1       2048  0.000007       2048   19066  5.0.71.57   \n",
       "4   moments5  6.3.1       4096  0.000013       4096   17091  5.0.71.57   \n",
       "5   moments5  6.3.1       8192  0.000026       8192   17187  5.0.71.57   \n",
       "6   moments5  6.3.1      16384  0.000051      16384   16271  5.0.71.57   \n",
       "7   moments5  6.3.1      32768  0.000102      32768    8895  5.0.71.57   \n",
       "8   moments5  6.3.1      65536  0.000202      65536    4687  5.0.71.57   \n",
       "9   moments5  6.3.1     131072  0.000408     131072    2246  5.0.71.57   \n",
       "10  moments5  6.3.1     262144  0.000834     262144    1077  5.0.71.57   \n",
       "11  moments5  6.3.1     524288  0.001704     524288     499  5.0.71.57   \n",
       "12  moments5  6.3.1    1048576  0.003343    1048576     283  5.0.71.57   \n",
       "13  moments5  6.3.1    2097152  0.006582    2097152     144  5.0.71.57   \n",
       "14  moments5  6.3.1    4194304  0.013245    4194304      74  5.0.71.57   \n",
       "15  moments5  6.3.1    8388608  0.026811    8388608      37  5.0.71.57   \n",
       "16  moments5  6.3.1   16777216  0.053544   16777216      20  5.0.71.57   \n",
       "17  moments5  6.3.1   33554432  0.107545   33554432      20  5.0.71.57   \n",
       "18  moments5  6.3.1   67108864  0.214789   67108864      20  5.0.71.57   \n",
       "19  moments5  6.3.1  134217728  0.430358  134217728      20  5.0.71.57   \n",
       "20  moments5  6.3.1  268435456  0.858327  268435456      20  5.0.71.57   \n",
       "\n",
       "            rate  bandwidth  \n",
       "0   6.492187e-09   1.147623  \n",
       "1   4.159901e-09   1.791047  \n",
       "2   3.651286e-09   2.040536  \n",
       "3   3.417341e-09   2.180227  \n",
       "4   3.225281e-09   2.310056  \n",
       "5   3.161438e-09   2.356706  \n",
       "6   3.129456e-09   2.380791  \n",
       "7   3.105530e-09   2.399134  \n",
       "8   3.088913e-09   2.412040  \n",
       "9   3.109344e-09   2.396190  \n",
       "10  3.180225e-09   2.342784  \n",
       "11  3.249666e-09   2.292722  \n",
       "12  3.188400e-09   2.336777  \n",
       "13  3.138340e-09   2.374051  \n",
       "14  3.157967e-09   2.359297  \n",
       "15  3.196119e-09   2.331134  \n",
       "16  3.191500e-09   2.334508  \n",
       "17  3.205084e-09   2.324613  \n",
       "18  3.200607e-09   2.327865  \n",
       "19  3.206420e-09   2.323645  \n",
       "20  3.197516e-09   2.330115  "
      ]
     },
     "execution_count": 13,
     "metadata": {},
     "output_type": "execute_result"
    }
   ],
   "source": [
    "results"
   ]
  },
  {
   "cell_type": "code",
   "execution_count": 11,
   "metadata": {
    "collapsed": false
   },
   "outputs": [
    {
     "data": {
      "text/plain": [
       "(3e-09, 4e-09)"
      ]
     },
     "execution_count": 11,
     "metadata": {},
     "output_type": "execute_result"
    },
    {
     "data": {
      "image/png": "[encoded data removed]",
      "text/plain": [
       "<matplotlib.figure.Figure at 0x7fcb78255780>"
      ]
     },
     "metadata": {},
     "output_type": "display_data"
    }
   ],
   "source": [
    "plt.plot(results[\"size\"], results[\"rate\"])\n",
    "plt.gca().set_xscale(\"log\")\n",
    "plt.gca().set_ylim(3e-9, 4e-9)"
   ]
  },
  {
   "cell_type": "code",
   "execution_count": 14,
   "metadata": {
    "collapsed": false
   },
   "outputs": [
    {
     "data": {
      "image/png": "[encoded data removed]",
      "text/plain": [
       "<matplotlib.figure.Figure at 0x7fcb75de26d8>"
      ]
     },
     "metadata": {},
     "output_type": "display_data"
    }
   ],
   "source": [
    "plt.plot(results[\"size\"], results[\"bandwidth\"])\n",
    "plt.gca().set_xscale(\"log\")"
   ]
  },
  {
   "cell_type": "code",
   "execution_count": null,
   "metadata": {
    "collapsed": true
   },
   "outputs": [],
   "source": []
  }
 ],
 "metadata": {
  "kernelspec": {
   "display_name": "Python 3",
   "language": "python",
   "name": "python3"
  },
  "language_info": {
   "codemirror_mode": {
    "name": "ipython",
    "version": 3
   },
   "file_extension": ".py",
   "mimetype": "text/x-python",
   "name": "python",
   "nbconvert_exporter": "python",
   "pygments_lexer": "ipython3",
   "version": "3.5.1"
  }
 },
 "nbformat": 4,
 "nbformat_minor": 0
}
