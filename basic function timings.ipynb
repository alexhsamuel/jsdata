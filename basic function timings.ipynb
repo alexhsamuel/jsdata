{
 "cells": [
  {
   "cell_type": "code",
   "execution_count": 1,
   "metadata": {
    "collapsed": true
   },
   "outputs": [],
   "source": [
    "import numpy as np"
   ]
  },
  {
   "cell_type": "code",
   "execution_count": 3,
   "metadata": {
    "collapsed": false
   },
   "outputs": [],
   "source": [
    "times = np.fromiter(( float(l.strip()) for l in open(\"arr0.csv\") ), dtype=float)"
   ]
  },
  {
   "cell_type": "code",
   "execution_count": 5,
   "metadata": {
    "collapsed": false
   },
   "outputs": [],
   "source": [
    "import matplotlib.pyplot as plt\n",
    "%matplotlib inline"
   ]
  },
  {
   "cell_type": "code",
   "execution_count": 7,
   "metadata": {
    "collapsed": false
   },
   "outputs": [
    {
     "data": {
      "text/plain": [
       "[<matplotlib.lines.Line2D at 0x10b091c50>]"
      ]
     },
     "execution_count": 7,
     "metadata": {},
     "output_type": "execute_result"
    },
    {
     "data": {
      "image/png": "[encoded data removed]",
      "text/plain": [
       "<matplotlib.figure.Figure at 0x10afadc50>"
      ]
     },
     "metadata": {},
     "output_type": "display_data"
    }
   ],
   "source": [
    "plt.plot(times)"
   ]
  },
  {
   "cell_type": "code",
   "execution_count": 10,
   "metadata": {
    "collapsed": false
   },
   "outputs": [
    {
     "data": {
      "image/png": "[encoded data removed]",
      "text/plain": [
       "<matplotlib.figure.Figure at 0x111647a20>"
      ]
     },
     "metadata": {},
     "output_type": "display_data"
    }
   ],
   "source": [
    "plt.hist(times, 100, (0.015, 0.035));"
   ]
  },
  {
   "cell_type": "code",
   "execution_count": 12,
   "metadata": {
    "collapsed": false
   },
   "outputs": [
    {
     "data": {
      "text/plain": [
       "0.018012079999998321"
      ]
     },
     "execution_count": 12,
     "metadata": {},
     "output_type": "execute_result"
    }
   ],
   "source": [
    "sorted(times)[len(times) // 10]"
   ]
  },
  {
   "cell_type": "code",
   "execution_count": 13,
   "metadata": {
    "collapsed": false
   },
   "outputs": [
    {
     "data": {
      "text/plain": [
       "0.017811471999999995"
      ]
     },
     "execution_count": 13,
     "metadata": {},
     "output_type": "execute_result"
    }
   ],
   "source": [
    "times.min()"
   ]
  },
  {
   "cell_type": "code",
   "execution_count": 23,
   "metadata": {
    "collapsed": true
   },
   "outputs": [],
   "source": [
    "import json\n",
    "import pandas as pd"
   ]
  },
  {
   "cell_type": "code",
   "execution_count": 68,
   "metadata": {
    "collapsed": false
   },
   "outputs": [],
   "source": [
    "with open(\"results.json\") as file:\n",
    "    results = pd.DataFrame.from_records( json.loads(l) for l in file )\n",
    "results[\"rate\"] = results[\"time\"] / results[\"size\"]"
   ]
  },
  {
   "cell_type": "code",
   "execution_count": 69,
   "metadata": {
    "collapsed": false
   },
   "outputs": [
    {
     "data": {
      "text/html": [
       "<div>\n",
       "<table border=\"1\" class=\"dataframe\">\n",
       "  <thead>\n",
       "    <tr style=\"text-align: right;\">\n",
       "      <th></th>\n",
       "      <th>function</th>\n",
       "      <th>size</th>\n",
       "      <th>time</th>\n",
       "      <th>time_err</th>\n",
       "      <th>trials</th>\n",
       "      <th>rate</th>\n",
       "    </tr>\n",
       "  </thead>\n",
       "  <tbody>\n",
       "    <tr>\n",
       "      <th>0</th>\n",
       "      <td>moments5</td>\n",
       "      <td>256</td>\n",
       "      <td>0.000002</td>\n",
       "      <td>3.799999e-08</td>\n",
       "      <td>1024</td>\n",
       "      <td>6.398438e-09</td>\n",
       "    </tr>\n",
       "    <tr>\n",
       "      <th>1</th>\n",
       "      <td>moments5</td>\n",
       "      <td>512</td>\n",
       "      <td>0.000002</td>\n",
       "      <td>5.200000e-08</td>\n",
       "      <td>1024</td>\n",
       "      <td>4.703125e-09</td>\n",
       "    </tr>\n",
       "    <tr>\n",
       "      <th>2</th>\n",
       "      <td>moments5</td>\n",
       "      <td>1024</td>\n",
       "      <td>0.000004</td>\n",
       "      <td>1.300000e-08</td>\n",
       "      <td>1024</td>\n",
       "      <td>3.886719e-09</td>\n",
       "    </tr>\n",
       "    <tr>\n",
       "      <th>3</th>\n",
       "      <td>moments5</td>\n",
       "      <td>2048</td>\n",
       "      <td>0.000007</td>\n",
       "      <td>3.700000e-08</td>\n",
       "      <td>1024</td>\n",
       "      <td>3.358887e-09</td>\n",
       "    </tr>\n",
       "    <tr>\n",
       "      <th>4</th>\n",
       "      <td>moments5</td>\n",
       "      <td>4096</td>\n",
       "      <td>0.000013</td>\n",
       "      <td>5.099999e-08</td>\n",
       "      <td>1024</td>\n",
       "      <td>3.131592e-09</td>\n",
       "    </tr>\n",
       "    <tr>\n",
       "      <th>5</th>\n",
       "      <td>moments5</td>\n",
       "      <td>8192</td>\n",
       "      <td>0.000026</td>\n",
       "      <td>5.899999e-08</td>\n",
       "      <td>1024</td>\n",
       "      <td>3.210327e-09</td>\n",
       "    </tr>\n",
       "    <tr>\n",
       "      <th>6</th>\n",
       "      <td>moments5</td>\n",
       "      <td>16384</td>\n",
       "      <td>0.000051</td>\n",
       "      <td>2.833000e-06</td>\n",
       "      <td>1024</td>\n",
       "      <td>3.090637e-09</td>\n",
       "    </tr>\n",
       "    <tr>\n",
       "      <th>7</th>\n",
       "      <td>moments5</td>\n",
       "      <td>32768</td>\n",
       "      <td>0.000101</td>\n",
       "      <td>5.446000e-06</td>\n",
       "      <td>1024</td>\n",
       "      <td>3.073303e-09</td>\n",
       "    </tr>\n",
       "    <tr>\n",
       "      <th>8</th>\n",
       "      <td>moments5</td>\n",
       "      <td>65536</td>\n",
       "      <td>0.000203</td>\n",
       "      <td>1.193900e-05</td>\n",
       "      <td>1024</td>\n",
       "      <td>3.096298e-09</td>\n",
       "    </tr>\n",
       "    <tr>\n",
       "      <th>9</th>\n",
       "      <td>moments5</td>\n",
       "      <td>131072</td>\n",
       "      <td>0.000405</td>\n",
       "      <td>1.733700e-05</td>\n",
       "      <td>1024</td>\n",
       "      <td>3.090073e-09</td>\n",
       "    </tr>\n",
       "    <tr>\n",
       "      <th>10</th>\n",
       "      <td>moments5</td>\n",
       "      <td>262144</td>\n",
       "      <td>0.000792</td>\n",
       "      <td>2.231400e-05</td>\n",
       "      <td>974</td>\n",
       "      <td>3.021561e-09</td>\n",
       "    </tr>\n",
       "    <tr>\n",
       "      <th>11</th>\n",
       "      <td>moments5</td>\n",
       "      <td>524288</td>\n",
       "      <td>0.001627</td>\n",
       "      <td>9.857600e-05</td>\n",
       "      <td>461</td>\n",
       "      <td>3.103031e-09</td>\n",
       "    </tr>\n",
       "    <tr>\n",
       "      <th>12</th>\n",
       "      <td>moments5</td>\n",
       "      <td>1048576</td>\n",
       "      <td>0.003301</td>\n",
       "      <td>1.578420e-04</td>\n",
       "      <td>242</td>\n",
       "      <td>3.148430e-09</td>\n",
       "    </tr>\n",
       "    <tr>\n",
       "      <th>13</th>\n",
       "      <td>moments5</td>\n",
       "      <td>2097152</td>\n",
       "      <td>0.007094</td>\n",
       "      <td>4.415180e-04</td>\n",
       "      <td>113</td>\n",
       "      <td>3.382788e-09</td>\n",
       "    </tr>\n",
       "    <tr>\n",
       "      <th>14</th>\n",
       "      <td>moments5</td>\n",
       "      <td>4194304</td>\n",
       "      <td>0.014416</td>\n",
       "      <td>2.854120e-04</td>\n",
       "      <td>60</td>\n",
       "      <td>3.437158e-09</td>\n",
       "    </tr>\n",
       "    <tr>\n",
       "      <th>15</th>\n",
       "      <td>moments5</td>\n",
       "      <td>8388608</td>\n",
       "      <td>0.028777</td>\n",
       "      <td>5.546530e-04</td>\n",
       "      <td>32</td>\n",
       "      <td>3.430529e-09</td>\n",
       "    </tr>\n",
       "    <tr>\n",
       "      <th>16</th>\n",
       "      <td>moments5</td>\n",
       "      <td>16777216</td>\n",
       "      <td>0.063989</td>\n",
       "      <td>3.802251e-03</td>\n",
       "      <td>15</td>\n",
       "      <td>3.814031e-09</td>\n",
       "    </tr>\n",
       "    <tr>\n",
       "      <th>17</th>\n",
       "      <td>moments5</td>\n",
       "      <td>33554432</td>\n",
       "      <td>0.110479</td>\n",
       "      <td>2.744824e-03</td>\n",
       "      <td>9</td>\n",
       "      <td>3.292533e-09</td>\n",
       "    </tr>\n",
       "    <tr>\n",
       "      <th>18</th>\n",
       "      <td>moments5</td>\n",
       "      <td>67108864</td>\n",
       "      <td>0.230844</td>\n",
       "      <td>3.263460e-04</td>\n",
       "      <td>5</td>\n",
       "      <td>3.439843e-09</td>\n",
       "    </tr>\n",
       "    <tr>\n",
       "      <th>19</th>\n",
       "      <td>moments5</td>\n",
       "      <td>134217728</td>\n",
       "      <td>0.475648</td>\n",
       "      <td>9.566022e-03</td>\n",
       "      <td>5</td>\n",
       "      <td>3.543853e-09</td>\n",
       "    </tr>\n",
       "    <tr>\n",
       "      <th>20</th>\n",
       "      <td>moments5</td>\n",
       "      <td>268435456</td>\n",
       "      <td>1.051039</td>\n",
       "      <td>5.703790e-03</td>\n",
       "      <td>5</td>\n",
       "      <td>3.915426e-09</td>\n",
       "    </tr>\n",
       "    <tr>\n",
       "      <th>21</th>\n",
       "      <td>moments5</td>\n",
       "      <td>536870912</td>\n",
       "      <td>1.872372</td>\n",
       "      <td>9.291315e-02</td>\n",
       "      <td>5</td>\n",
       "      <td>3.487564e-09</td>\n",
       "    </tr>\n",
       "  </tbody>\n",
       "</table>\n",
       "</div>"
      ],
      "text/plain": [
       "    function       size      time      time_err  trials          rate\n",
       "0   moments5        256  0.000002  3.799999e-08    1024  6.398438e-09\n",
       "1   moments5        512  0.000002  5.200000e-08    1024  4.703125e-09\n",
       "2   moments5       1024  0.000004  1.300000e-08    1024  3.886719e-09\n",
       "3   moments5       2048  0.000007  3.700000e-08    1024  3.358887e-09\n",
       "4   moments5       4096  0.000013  5.099999e-08    1024  3.131592e-09\n",
       "5   moments5       8192  0.000026  5.899999e-08    1024  3.210327e-09\n",
       "6   moments5      16384  0.000051  2.833000e-06    1024  3.090637e-09\n",
       "7   moments5      32768  0.000101  5.446000e-06    1024  3.073303e-09\n",
       "8   moments5      65536  0.000203  1.193900e-05    1024  3.096298e-09\n",
       "9   moments5     131072  0.000405  1.733700e-05    1024  3.090073e-09\n",
       "10  moments5     262144  0.000792  2.231400e-05     974  3.021561e-09\n",
       "11  moments5     524288  0.001627  9.857600e-05     461  3.103031e-09\n",
       "12  moments5    1048576  0.003301  1.578420e-04     242  3.148430e-09\n",
       "13  moments5    2097152  0.007094  4.415180e-04     113  3.382788e-09\n",
       "14  moments5    4194304  0.014416  2.854120e-04      60  3.437158e-09\n",
       "15  moments5    8388608  0.028777  5.546530e-04      32  3.430529e-09\n",
       "16  moments5   16777216  0.063989  3.802251e-03      15  3.814031e-09\n",
       "17  moments5   33554432  0.110479  2.744824e-03       9  3.292533e-09\n",
       "18  moments5   67108864  0.230844  3.263460e-04       5  3.439843e-09\n",
       "19  moments5  134217728  0.475648  9.566022e-03       5  3.543853e-09\n",
       "20  moments5  268435456  1.051039  5.703790e-03       5  3.915426e-09\n",
       "21  moments5  536870912  1.872372  9.291315e-02       5  3.487564e-09"
      ]
     },
     "execution_count": 69,
     "metadata": {},
     "output_type": "execute_result"
    }
   ],
   "source": [
    "results"
   ]
  },
  {
   "cell_type": "code",
   "execution_count": 70,
   "metadata": {
    "collapsed": false
   },
   "outputs": [
    {
     "data": {
      "text/plain": [
       "(3e-09, 4e-09)"
      ]
     },
     "execution_count": 70,
     "metadata": {},
     "output_type": "execute_result"
    },
    {
     "data": {
      "image/png": "[encoded data removed]",
      "text/plain": [
       "<matplotlib.figure.Figure at 0x11b0318d0>"
      ]
     },
     "metadata": {},
     "output_type": "display_data"
    }
   ],
   "source": [
    "plt.errorbar(results[\"size\"], results[\"rate\"], xerr=results[\"time_err\"] / results[\"size\"])\n",
    "plt.gca().set_xscale(\"log\")\n",
    "plt.gca().set_ylim(3e-9, 4e-9)"
   ]
  },
  {
   "cell_type": "code",
   "execution_count": null,
   "metadata": {
    "collapsed": true
   },
   "outputs": [],
   "source": []
  }
 ],
 "metadata": {
  "kernelspec": {
   "display_name": "Python 3",
   "language": "python",
   "name": "python3"
  },
  "language_info": {
   "codemirror_mode": {
    "name": "ipython",
    "version": 3
   },
   "file_extension": ".py",
   "mimetype": "text/x-python",
   "name": "python",
   "nbconvert_exporter": "python",
   "pygments_lexer": "ipython3",
   "version": "3.5.1"
  }
 },
 "nbformat": 4,
 "nbformat_minor": 0
}
