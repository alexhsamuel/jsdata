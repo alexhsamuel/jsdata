{
 "cells": [
  {
   "cell_type": "code",
   "execution_count": 1,
   "metadata": {
    "collapsed": true
   },
   "outputs": [],
   "source": [
    "import numpy as np"
   ]
  },
  {
   "cell_type": "code",
   "execution_count": 3,
   "metadata": {
    "collapsed": false
   },
   "outputs": [],
   "source": [
    "times = np.fromiter(( float(l.strip()) for l in open(\"arr0.csv\") ), dtype=float)"
   ]
  },
  {
   "cell_type": "code",
   "execution_count": 5,
   "metadata": {
    "collapsed": false
   },
   "outputs": [],
   "source": [
    "import matplotlib.pyplot as plt\n",
    "%matplotlib inline"
   ]
  },
  {
   "cell_type": "code",
   "execution_count": 7,
   "metadata": {
    "collapsed": false
   },
   "outputs": [
    {
     "data": {
      "text/plain": [
       "[<matplotlib.lines.Line2D at 0x10b091c50>]"
      ]
     },
     "execution_count": 7,
     "metadata": {},
     "output_type": "execute_result"
    },
    {
     "data": {
      "image/png": "[encoded data removed]",
      "text/plain": [
       "<matplotlib.figure.Figure at 0x10afadc50>"
      ]
     },
     "metadata": {},
     "output_type": "display_data"
    }
   ],
   "source": [
    "plt.plot(times)"
   ]
  },
  {
   "cell_type": "code",
   "execution_count": 10,
   "metadata": {
    "collapsed": false
   },
   "outputs": [
    {
     "data": {
      "image/png": "[encoded data removed]",
      "text/plain": [
       "<matplotlib.figure.Figure at 0x111647a20>"
      ]
     },
     "metadata": {},
     "output_type": "display_data"
    }
   ],
   "source": [
    "plt.hist(times, 100, (0.015, 0.035));"
   ]
  },
  {
   "cell_type": "code",
   "execution_count": 12,
   "metadata": {
    "collapsed": false
   },
   "outputs": [
    {
     "data": {
      "text/plain": [
       "0.018012079999998321"
      ]
     },
     "execution_count": 12,
     "metadata": {},
     "output_type": "execute_result"
    }
   ],
   "source": [
    "sorted(times)[len(times) // 10]"
   ]
  },
  {
   "cell_type": "code",
   "execution_count": 13,
   "metadata": {
    "collapsed": false
   },
   "outputs": [
    {
     "data": {
      "text/plain": [
       "0.017811471999999995"
      ]
     },
     "execution_count": 13,
     "metadata": {},
     "output_type": "execute_result"
    }
   ],
   "source": [
    "times.min()"
   ]
  },
  {
   "cell_type": "code",
   "execution_count": 23,
   "metadata": {
    "collapsed": true
   },
   "outputs": [],
   "source": [
    "import json\n",
    "import pandas as pd"
   ]
  },
  {
   "cell_type": "code",
   "execution_count": 51,
   "metadata": {
    "collapsed": false
   },
   "outputs": [],
   "source": [
    "with open(\"results.json\") as file:\n",
    "    results = pd.DataFrame.from_records( json.loads(l) for l in file )\n",
    "results[\"rate\"] = results[\"time\"] / results[\"size\"]"
   ]
  },
  {
   "cell_type": "code",
   "execution_count": 52,
   "metadata": {
    "collapsed": false
   },
   "outputs": [
    {
     "data": {
      "text/html": [
       "<div>\n",
       "<table border=\"1\" class=\"dataframe\">\n",
       "  <thead>\n",
       "    <tr style=\"text-align: right;\">\n",
       "      <th></th>\n",
       "      <th>function</th>\n",
       "      <th>size</th>\n",
       "      <th>time</th>\n",
       "      <th>time_err</th>\n",
       "      <th>trials</th>\n",
       "      <th>rate</th>\n",
       "    </tr>\n",
       "  </thead>\n",
       "  <tbody>\n",
       "    <tr>\n",
       "      <th>0</th>\n",
       "      <td>moments5</td>\n",
       "      <td>256</td>\n",
       "      <td>0.000002</td>\n",
       "      <td>4.400000e-08</td>\n",
       "      <td>1024</td>\n",
       "      <td>5.902344e-09</td>\n",
       "    </tr>\n",
       "    <tr>\n",
       "      <th>1</th>\n",
       "      <td>moments5</td>\n",
       "      <td>512</td>\n",
       "      <td>0.000002</td>\n",
       "      <td>7.900000e-08</td>\n",
       "      <td>1024</td>\n",
       "      <td>4.511719e-09</td>\n",
       "    </tr>\n",
       "    <tr>\n",
       "      <th>2</th>\n",
       "      <td>moments5</td>\n",
       "      <td>1024</td>\n",
       "      <td>0.000004</td>\n",
       "      <td>7.200000e-08</td>\n",
       "      <td>1024</td>\n",
       "      <td>3.645508e-09</td>\n",
       "    </tr>\n",
       "    <tr>\n",
       "      <th>3</th>\n",
       "      <td>moments5</td>\n",
       "      <td>2048</td>\n",
       "      <td>0.000007</td>\n",
       "      <td>1.190000e-07</td>\n",
       "      <td>1024</td>\n",
       "      <td>3.315430e-09</td>\n",
       "    </tr>\n",
       "    <tr>\n",
       "      <th>4</th>\n",
       "      <td>moments5</td>\n",
       "      <td>4096</td>\n",
       "      <td>0.000013</td>\n",
       "      <td>8.100000e-08</td>\n",
       "      <td>1024</td>\n",
       "      <td>3.119629e-09</td>\n",
       "    </tr>\n",
       "    <tr>\n",
       "      <th>5</th>\n",
       "      <td>moments5</td>\n",
       "      <td>8192</td>\n",
       "      <td>0.000025</td>\n",
       "      <td>5.000000e-08</td>\n",
       "      <td>1024</td>\n",
       "      <td>3.002808e-09</td>\n",
       "    </tr>\n",
       "    <tr>\n",
       "      <th>6</th>\n",
       "      <td>moments5</td>\n",
       "      <td>16384</td>\n",
       "      <td>0.000048</td>\n",
       "      <td>6.600000e-08</td>\n",
       "      <td>1024</td>\n",
       "      <td>2.954346e-09</td>\n",
       "    </tr>\n",
       "    <tr>\n",
       "      <th>7</th>\n",
       "      <td>moments5</td>\n",
       "      <td>32768</td>\n",
       "      <td>0.000096</td>\n",
       "      <td>7.000000e-08</td>\n",
       "      <td>1024</td>\n",
       "      <td>2.938324e-09</td>\n",
       "    </tr>\n",
       "    <tr>\n",
       "      <th>8</th>\n",
       "      <td>moments5</td>\n",
       "      <td>65536</td>\n",
       "      <td>0.000192</td>\n",
       "      <td>1.700000e-07</td>\n",
       "      <td>1024</td>\n",
       "      <td>2.929001e-09</td>\n",
       "    </tr>\n",
       "    <tr>\n",
       "      <th>9</th>\n",
       "      <td>moments5</td>\n",
       "      <td>131072</td>\n",
       "      <td>0.000384</td>\n",
       "      <td>1.606000e-06</td>\n",
       "      <td>1024</td>\n",
       "      <td>2.927055e-09</td>\n",
       "    </tr>\n",
       "    <tr>\n",
       "      <th>10</th>\n",
       "      <td>moments5</td>\n",
       "      <td>262144</td>\n",
       "      <td>0.000772</td>\n",
       "      <td>6.002000e-06</td>\n",
       "      <td>1024</td>\n",
       "      <td>2.944092e-09</td>\n",
       "    </tr>\n",
       "    <tr>\n",
       "      <th>11</th>\n",
       "      <td>moments5</td>\n",
       "      <td>524288</td>\n",
       "      <td>0.001592</td>\n",
       "      <td>1.192500e-05</td>\n",
       "      <td>543</td>\n",
       "      <td>3.036036e-09</td>\n",
       "    </tr>\n",
       "    <tr>\n",
       "      <th>12</th>\n",
       "      <td>moments5</td>\n",
       "      <td>1048576</td>\n",
       "      <td>0.003189</td>\n",
       "      <td>3.271900e-05</td>\n",
       "      <td>277</td>\n",
       "      <td>3.041595e-09</td>\n",
       "    </tr>\n",
       "    <tr>\n",
       "      <th>13</th>\n",
       "      <td>moments5</td>\n",
       "      <td>2097152</td>\n",
       "      <td>0.006482</td>\n",
       "      <td>1.683870e-04</td>\n",
       "      <td>135</td>\n",
       "      <td>3.090746e-09</td>\n",
       "    </tr>\n",
       "    <tr>\n",
       "      <th>14</th>\n",
       "      <td>moments5</td>\n",
       "      <td>4194304</td>\n",
       "      <td>0.013632</td>\n",
       "      <td>5.731080e-04</td>\n",
       "      <td>69</td>\n",
       "      <td>3.250107e-09</td>\n",
       "    </tr>\n",
       "    <tr>\n",
       "      <th>15</th>\n",
       "      <td>moments5</td>\n",
       "      <td>8388608</td>\n",
       "      <td>0.027431</td>\n",
       "      <td>5.889450e-04</td>\n",
       "      <td>34</td>\n",
       "      <td>3.270074e-09</td>\n",
       "    </tr>\n",
       "    <tr>\n",
       "      <th>16</th>\n",
       "      <td>moments5</td>\n",
       "      <td>16777216</td>\n",
       "      <td>0.054749</td>\n",
       "      <td>5.062970e-04</td>\n",
       "      <td>18</td>\n",
       "      <td>3.263272e-09</td>\n",
       "    </tr>\n",
       "    <tr>\n",
       "      <th>17</th>\n",
       "      <td>moments5</td>\n",
       "      <td>33554432</td>\n",
       "      <td>0.117688</td>\n",
       "      <td>6.297040e-04</td>\n",
       "      <td>7</td>\n",
       "      <td>3.507385e-09</td>\n",
       "    </tr>\n",
       "    <tr>\n",
       "      <th>18</th>\n",
       "      <td>moments5</td>\n",
       "      <td>67108864</td>\n",
       "      <td>0.238805</td>\n",
       "      <td>1.808012e-03</td>\n",
       "      <td>5</td>\n",
       "      <td>3.558473e-09</td>\n",
       "    </tr>\n",
       "    <tr>\n",
       "      <th>19</th>\n",
       "      <td>moments5</td>\n",
       "      <td>134217728</td>\n",
       "      <td>0.494541</td>\n",
       "      <td>1.796212e-02</td>\n",
       "      <td>5</td>\n",
       "      <td>3.684618e-09</td>\n",
       "    </tr>\n",
       "    <tr>\n",
       "      <th>20</th>\n",
       "      <td>moments5</td>\n",
       "      <td>268435456</td>\n",
       "      <td>0.987300</td>\n",
       "      <td>3.996470e-02</td>\n",
       "      <td>5</td>\n",
       "      <td>3.677979e-09</td>\n",
       "    </tr>\n",
       "  </tbody>\n",
       "</table>\n",
       "</div>"
      ],
      "text/plain": [
       "    function       size      time      time_err  trials          rate\n",
       "0   moments5        256  0.000002  4.400000e-08    1024  5.902344e-09\n",
       "1   moments5        512  0.000002  7.900000e-08    1024  4.511719e-09\n",
       "2   moments5       1024  0.000004  7.200000e-08    1024  3.645508e-09\n",
       "3   moments5       2048  0.000007  1.190000e-07    1024  3.315430e-09\n",
       "4   moments5       4096  0.000013  8.100000e-08    1024  3.119629e-09\n",
       "5   moments5       8192  0.000025  5.000000e-08    1024  3.002808e-09\n",
       "6   moments5      16384  0.000048  6.600000e-08    1024  2.954346e-09\n",
       "7   moments5      32768  0.000096  7.000000e-08    1024  2.938324e-09\n",
       "8   moments5      65536  0.000192  1.700000e-07    1024  2.929001e-09\n",
       "9   moments5     131072  0.000384  1.606000e-06    1024  2.927055e-09\n",
       "10  moments5     262144  0.000772  6.002000e-06    1024  2.944092e-09\n",
       "11  moments5     524288  0.001592  1.192500e-05     543  3.036036e-09\n",
       "12  moments5    1048576  0.003189  3.271900e-05     277  3.041595e-09\n",
       "13  moments5    2097152  0.006482  1.683870e-04     135  3.090746e-09\n",
       "14  moments5    4194304  0.013632  5.731080e-04      69  3.250107e-09\n",
       "15  moments5    8388608  0.027431  5.889450e-04      34  3.270074e-09\n",
       "16  moments5   16777216  0.054749  5.062970e-04      18  3.263272e-09\n",
       "17  moments5   33554432  0.117688  6.297040e-04       7  3.507385e-09\n",
       "18  moments5   67108864  0.238805  1.808012e-03       5  3.558473e-09\n",
       "19  moments5  134217728  0.494541  1.796212e-02       5  3.684618e-09\n",
       "20  moments5  268435456  0.987300  3.996470e-02       5  3.677979e-09"
      ]
     },
     "execution_count": 52,
     "metadata": {},
     "output_type": "execute_result"
    }
   ],
   "source": [
    "results"
   ]
  },
  {
   "cell_type": "code",
   "execution_count": 53,
   "metadata": {
    "collapsed": false
   },
   "outputs": [
    {
     "data": {
      "image/png": "[encoded data removed]",
      "text/plain": [
       "<matplotlib.figure.Figure at 0x11ab81710>"
      ]
     },
     "metadata": {},
     "output_type": "display_data"
    }
   ],
   "source": [
    "plt.errorbar(results[\"size\"], results[\"rate\"], xerr=results[\"time_err\"] / results[\"size\"])\n",
    "plt.gca().set_xscale(\"log\")"
   ]
  },
  {
   "cell_type": "code",
   "execution_count": null,
   "metadata": {
    "collapsed": true
   },
   "outputs": [],
   "source": []
  }
 ],
 "metadata": {
  "kernelspec": {
   "display_name": "Python 3",
   "language": "python",
   "name": "python3"
  },
  "language_info": {
   "codemirror_mode": {
    "name": "ipython",
    "version": 3
   },
   "file_extension": ".py",
   "mimetype": "text/x-python",
   "name": "python",
   "nbconvert_exporter": "python",
   "pygments_lexer": "ipython3",
   "version": "3.5.1"
  }
 },
 "nbformat": 4,
 "nbformat_minor": 0
}
